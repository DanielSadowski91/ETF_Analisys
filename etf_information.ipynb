{
 "cells": [
  {
   "cell_type": "markdown",
   "metadata": {},
   "source": [
    "ETF Information"
   ]
  },
  {
   "cell_type": "code",
   "execution_count": 1,
   "metadata": {},
   "outputs": [
    {
     "name": "stdout",
     "output_type": "stream",
     "text": [
      "Index(['Date', 'Open', 'High', 'Low', 'Close', 'Volume', 'Dividends',\n",
      "       'Stock Splits', 'ETF_name'],\n",
      "      dtype='object')\n"
     ]
    }
   ],
   "source": [
    "import pandas as pd\n",
    "from pathlib import Path\n",
    "import numpy as np\n",
    "\n",
    "\n",
    "#importing matplotlib setting style for plotting later\n",
    "import matplotlib.pyplot as plt\n",
    "%matplotlib inline\n",
    "%config InlineBackend.figure_format = 'svg' \n",
    "plt.style.use('fivethirtyeight')\n",
    "\n",
    "# Reading datasets\n",
    "database_path= r'database'\n",
    "# Get the files from the path\n",
    "files = Path(database_path).glob('*.csv')\n",
    "#Add new column with file name\n",
    "dfs = list()\n",
    "for f in files:\n",
    "    data = pd.read_csv(f)\n",
    "    data['ETF_name'] = f.stem\n",
    "    dfs.append(data)\n",
    "    \n",
    "etf = pd.concat(dfs, ignore_index=True)\n",
    "\n",
    "\n",
    "#Selecting and printing columns\n",
    "print(etf.columns)"
   ]
  },
  {
   "cell_type": "markdown",
   "metadata": {},
   "source": [
    "Presenting unique ETF"
   ]
  },
  {
   "cell_type": "code",
   "execution_count": 2,
   "metadata": {},
   "outputs": [
    {
     "name": "stdout",
     "output_type": "stream",
     "text": [
      "                        Date       Open       High        Low      Close  \\\n",
      "0  2019-02-04 00:00:00-05:00  19.837522  20.073683  19.834570  20.073683   \n",
      "1  2019-02-05 00:00:00-05:00  20.152404  20.280325  20.103204  20.204557   \n",
      "2  2019-02-06 00:00:00-05:00  20.191766  20.205542  19.985124  20.142565   \n",
      "3  2019-02-07 00:00:00-05:00  19.965444  19.994963  19.680082  19.847363   \n",
      "4  2019-02-08 00:00:00-05:00  19.680081  19.886721  19.630882  19.867043   \n",
      "\n",
      "   Volume  Dividends  Stock Splits ETF_name  \n",
      "0   47200        0.0             0     ARKF  \n",
      "1  110700        0.0             0     ARKF  \n",
      "2   45300        0.0             0     ARKF  \n",
      "3   58200        0.0             0     ARKF  \n",
      "4   18900        0.0             0     ARKF  \n"
     ]
    }
   ],
   "source": [
    "#Selecting unique ETF and setting the index. Checking data with head\n",
    "unique_etf = etf.index.unique()\n",
    "print(etf.head())\n"
   ]
  },
  {
   "cell_type": "markdown",
   "metadata": {},
   "source": [
    "Counting mean from Open Hight low and close datas. And describe that value"
   ]
  },
  {
   "cell_type": "code",
   "execution_count": 9,
   "metadata": {},
   "outputs": [
    {
     "name": "stdout",
     "output_type": "stream",
     "text": [
      "           count        mean        std        min         25%         50%  \\\n",
      "ETF_name                                                                     \n",
      "ARKF       938.0   32.945041  13.527544  14.835000   21.444648   26.967235   \n",
      "BITQ       366.0   16.808884   7.549565   5.598750    8.224562   17.711250   \n",
      "BLOK      1195.0   23.866389  11.389230  11.532612   15.636625   17.396378   \n",
      "EMFQ       941.0   34.521546  11.567484  18.219000   26.003816   28.481263   \n",
      "FINX      1259.0   30.706859   8.510393  19.225670   24.115913   27.455002   \n",
      "FNTC       191.0   16.628266   4.453932  10.554000   12.985250   15.420942   \n",
      "IPAY      1259.0   49.237790  11.398876  31.630000   39.867963   46.812153   \n",
      "IYG       1259.0  141.298568  27.132331  84.979558  120.831230  129.046152   \n",
      "KOIN      1192.0   31.184145   7.193204  19.982987   24.861219   29.397719   \n",
      "TPAY       940.0   35.020746   7.162695  20.889000   29.332937   33.069987   \n",
      "\n",
      "                 75%         max  \n",
      "ETF_name                          \n",
      "ARKF       47.505217   63.728748  \n",
      "BITQ       22.607584   33.691152  \n",
      "BLOK       31.950500   55.625428  \n",
      "EMFQ       44.715500   62.109750  \n",
      "FINX       36.894191   49.755937  \n",
      "FNTC       20.436497   26.818747  \n",
      "IPAY       56.003874   72.834999  \n",
      "IYG       163.698840  200.400542  \n",
      "KOIN       38.190374   44.951830  \n",
      "TPAY       42.529274   48.592501  \n"
     ]
    }
   ],
   "source": [
    "#count mean from columns: Open, High, Low, Close and describe that\n",
    "\n",
    "mean_by_etf = pd.DataFrame()\n",
    "etf['mean'] = etf.loc[:, 'Open':'Close'].mean(axis=1)\n",
    "print(etf.groupby(\"ETF_name\")['mean'].describe())\n"
   ]
  },
  {
   "cell_type": "code",
   "execution_count": null,
   "metadata": {},
   "outputs": [],
   "source": [
    "# plot\n",
    "COLORS = ('orange','green', 'blue', 'red', 'yellow', 'brown', 'darkgreen', 'darkblue')\n",
    "\n",
    "\n",
    "# Grouping by ETF_name and summing the Volume\n",
    "volume_sum_by_etf = etf.groupby(\"ETF_name\")[\"Volume\"].sum()\n",
    "\n",
    "# Sort the volume_sum_by_etf Series in descending order\n",
    "volume_sum_by_etf = volume_sum_by_etf.sort_values(ascending=False)\n",
    "\n",
    "# Plotting the bar plot\n",
    "ax = volume_sum_by_etf.plot(kind='bar', color=COLORS, legend=False, grid=True)\n",
    "ax.set_ylabel('Total Volume')\n",
    "ax.set_title('ETF Volume by ETF Name')\n",
    "plt.xticks(rotation=45)\n",
    "    \n",
    "\n",
    "plt.tight_layout()\n",
    "plt.show()\n",
    "print(volume_sum_by_etf)\n"
   ]
  },
  {
   "cell_type": "markdown",
   "metadata": {},
   "source": [
    "10 top differences between open and close volume - in date"
   ]
  },
  {
   "cell_type": "code",
   "execution_count": null,
   "metadata": {},
   "outputs": [],
   "source": []
  },
  {
   "cell_type": "markdown",
   "metadata": {},
   "source": [
    "line graph for mean between 4 datas for each ETF"
   ]
  }
 ],
 "metadata": {
  "kernelspec": {
   "display_name": "Python 3",
   "language": "python",
   "name": "python3"
  },
  "language_info": {
   "codemirror_mode": {
    "name": "ipython",
    "version": 3
   },
   "file_extension": ".py",
   "mimetype": "text/x-python",
   "name": "python",
   "nbconvert_exporter": "python",
   "pygments_lexer": "ipython3",
   "version": "3.11.4"
  },
  "orig_nbformat": 4
 },
 "nbformat": 4,
 "nbformat_minor": 2
}
