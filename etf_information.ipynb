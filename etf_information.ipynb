{
 "cells": [
  {
   "cell_type": "markdown",
   "metadata": {},
   "source": [
    "Environment set-up"
   ]
  },
  {
   "cell_type": "code",
   "execution_count": null,
   "metadata": {},
   "outputs": [],
   "source": [
    "import pandas as pd\n",
    "import numpy as np\n",
    "import seaborn as sns\n",
    "import matplotlib.pyplot as plt\n",
    "from pathlib import Path\n",
    "\n",
    "# Set the matplotlib style for consistent plotting aesthetics\n",
    "plt.style.use('fivethirtyeight')\n",
    "%matplotlib inline\n",
    "%config InlineBackend.figure_format = 'svg'\n",
    "\n",
    "# Specify the path to the dataset directory\n",
    "database_path = r'database'\n",
    "\n",
    "# Get a list of CSV files from the specified directory\n",
    "files = Path(database_path).glob('*.csv')\n",
    "\n",
    "# Initialize an empty list to hold individual ETF dataframes\n",
    "dfs = []\n",
    "\n",
    "for f in files:\n",
    "    data = pd.read_csv(f)\n",
    "    data['ETF_name'] = f.stem\n",
    "    dfs.append(data)\n",
    "    \n",
    "# Concatenate the list of ETF dataframes into a single dataframe\n",
    "etf = pd.concat(dfs, ignore_index=True)\n",
    "\n",
    "\n",
    "# Display basic information about the merged dataframe\n",
    "etf.info()\n"
   ]
  },
  {
   "cell_type": "code",
   "execution_count": null,
   "metadata": {},
   "outputs": [],
   "source": [
    "# Convert the 'Date' column to datetime type and ensure 'ETF_name' is treated as a string\n",
    "etf['Date'] = pd.to_datetime(etf['Date'], utc=True)\n",
    "etf = etf.astype({'ETF_name': 'string'})\n",
    "\n",
    "# Display updated information about the dataframe\n",
    "etf.info()"
   ]
  },
  {
   "cell_type": "code",
   "execution_count": null,
   "metadata": {},
   "outputs": [],
   "source": [
    "#Selecting and printing columns\n",
    "etf.columns"
   ]
  },
  {
   "cell_type": "markdown",
   "metadata": {},
   "source": [
    "Initial Diagonistics"
   ]
  },
  {
   "cell_type": "code",
   "execution_count": null,
   "metadata": {},
   "outputs": [],
   "source": [
    "#Selecting unique ETF and setting the index. \n",
    "unique_etf = etf.index.unique()\n",
    "\n",
    "\n",
    "# Add new columns for year, month, and day extracted from the 'Date' column\n",
    "etf['Year'] = etf['Date'].dt.year\n",
    "etf['Month'] = etf['Date'].dt.month\n",
    "etf['Day'] = etf['Date'].dt.day\n",
    "\n",
    "#Check the result\n",
    "etf.head()"
   ]
  },
  {
   "cell_type": "markdown",
   "metadata": {},
   "source": [
    "Calculate Mean Price and Summarize by ETF\n",
    "The average price is calculated by trading parameters such as 'Open', 'High', 'Low', and 'Close'"
   ]
  },
  {
   "cell_type": "code",
   "execution_count": null,
   "metadata": {},
   "outputs": [],
   "source": [
    "#Calculate the mean of 'Open', 'High', 'Low', and 'Close' columns and add it as a new column#mean_by_etf = pd.DataFrame()\n",
    "etf['mean'] = etf.loc[:, 'Open':'Close'].mean(axis=1)\n",
    "etf.groupby('ETF_name')['mean'].describe()\n"
   ]
  },
  {
   "cell_type": "markdown",
   "metadata": {},
   "source": [
    "Mapping Colors to ETFs and Visualizing Trading Volume and Visualizing ETF Trading Volume"
   ]
  },
  {
   "cell_type": "code",
   "execution_count": null,
   "metadata": {},
   "outputs": [],
   "source": [
    "# Create a list of colors corresponding to unique ETFs\n",
    "COLORS = ('orange', 'lightgreen', 'lightblue',\n",
    "          'red', 'yellow', 'brown', 'darkgreen', 'darkblue', 'black', 'purple')\n",
    "etf_colors = dict(zip(unique_etf, COLORS))\n",
    "\n",
    "# Group ETFs by name and calculate the total trading volume\n",
    "volume_sum_by_etf = etf.groupby('ETF_name')['Volume'].sum()\n",
    "\n",
    "\n",
    "# Plot a bar chart to visualize total trading volume for each ETF\n",
    "ax = volume_sum_by_etf.plot(kind='bar', color=COLORS, legend=False, grid=True)\n",
    "ax.set_ylabel('Total Volume')\n",
    "ax.set_title('ETF Volume by ETF Name')\n",
    "plt.xticks(rotation=45)\n",
    "plt.tight_layout()\n",
    "plt.show()\n",
    "volume_sum_by_etf\n"
   ]
  },
  {
   "cell_type": "markdown",
   "metadata": {},
   "source": [
    "Individual ETF Volume Analysis"
   ]
  },
  {
   "cell_type": "code",
   "execution_count": null,
   "metadata": {},
   "outputs": [],
   "source": [
    "# Plot volume analysis for each ETF\n",
    "for etf_name in etf['ETF_name'].unique():\n",
    "    etf_subset = etf[etf['ETF_name'] == etf_name]\n",
    "    \n",
    "    # Create a subplot for volume analysis\n",
    "    fig, ax = plt.subplots(figsize=(10, 6))\n",
    "    \n",
    "    # Plot trading volume\n",
    "    ax.plot(etf_subset['Date'], etf_subset['Volume'],\n",
    "            linewidth = 1, label='Trading Volume', color='blue')\n",
    "    \n",
    "    ax.set_xlabel('Date')\n",
    "    ax.set_ylabel('Volume')\n",
    "    ax.set_title(f'Trading Volume Analysis for {etf_name}')\n",
    "    ax.legend()\n",
    "    \n",
    "    plt.xticks(rotation=45)\n",
    "    plt.tight_layout()\n",
    "    plt.show()"
   ]
  },
  {
   "cell_type": "markdown",
   "metadata": {},
   "source": [
    "Visualizing ETF Mean Prices Over Time for all ETF's"
   ]
  },
  {
   "cell_type": "code",
   "execution_count": null,
   "metadata": {},
   "outputs": [],
   "source": [
    "# Pivot the DataFrame to have each ETF's mean price as columns\n",
    "pivot_etf = etf.pivot_table(\n",
    "    index='Date', columns='ETF_name', values='mean', aggfunc='mean')\n",
    "\n",
    "# Plot a separate line for each ETF\n",
    "ax2 = pivot_etf.plot.line(\n",
    "    linewidth = 1, legend=True, figsize=(10, 6), color=COLORS)\n",
    "ax2.set_xlabel('Year')\n",
    "ax2.set_ylabel('Mean Price')\n",
    "ax2.set_title('Mean Price of ETFs Over Time')\n",
    "plt.xticks(rotation=45)\n",
    "ax2.legend(bbox_to_anchor=(1, 0.8))\n",
    "plt.tight_layout()\n",
    "plt.show()\n"
   ]
  },
  {
   "cell_type": "markdown",
   "metadata": {},
   "source": [
    "Visualizing ETF Mean Prices Over Time for each ETF"
   ]
  },
  {
   "cell_type": "code",
   "execution_count": null,
   "metadata": {},
   "outputs": [],
   "source": [
    "# Create separate line plots for each ETF\n",
    "for etf_name in etf['ETF_name'].unique():\n",
    "    etf_subset = etf[etf['ETF_name'] == etf_name]\n",
    "       # # Plotting the line plot for the current ETF\n",
    "\n",
    "    ax = etf_subset.plot.line(x='Date', y='mean', linewidth=1, figsize=(10, 6))\n",
    "    ax.set_xlabel('Year')\n",
    "    ax.set_ylabel('Mean Price')\n",
    "    ax.set_title(f'Mean Price of {etf_name} Over Time')\n",
    "    plt.xticks(rotation=45)\n",
    "    plt.tight_layout()\n",
    "    plt.show()"
   ]
  },
  {
   "cell_type": "markdown",
   "metadata": {},
   "source": [
    "A bar plot is created to visualize the volatility of each ETF."
   ]
  },
  {
   "cell_type": "code",
   "execution_count": null,
   "metadata": {},
   "outputs": [],
   "source": [
    "# Calculate daily returns\n",
    "etf['Daily_Return'] = etf.groupby('ETF_name')['Close'].pct_change()\n",
    "\n",
    "# Calculate annualized volatility (assuming 252 trading days in a year)\n",
    "etf_volatility = etf.groupby('ETF_name')['Daily_Return'].std() * np.sqrt(252)\n",
    "\n",
    "# Visualize volatility\n",
    "ax = etf_volatility.plot(kind='bar', color=COLORS, legend=False, grid=True)\n",
    "ax.set_ylabel('Volatility')\n",
    "ax.set_title('Volatility of ETFs')\n",
    "plt.xticks(rotation=45)\n",
    "plt.tight_layout()\n",
    "plt.show()"
   ]
  },
  {
   "cell_type": "markdown",
   "metadata": {},
   "source": [
    "Calculating and Visualizing Correlation Matrix\n",
    "\n",
    "* The code calculates the correlation matrix between daily returns of different ETFs.\n",
    "* The correlation matrix is visualized as a heatmap, showing the correlation values between ETF pairs."
   ]
  },
  {
   "cell_type": "code",
   "execution_count": null,
   "metadata": {},
   "outputs": [],
   "source": [
    "# Calculate daily returns\n",
    "etf['Daily_Return'] = etf.groupby('ETF_name')['Close'].pct_change()\n",
    "\n",
    "# Calculate correlation matrix\n",
    "correlation_matrix = etf.pivot_table(\n",
    "    index='Date', columns='ETF_name', values='Daily_Return').corr()\n",
    "\n",
    "# Visualize correlation matrix as a heatmap\n",
    "plt.figure(figsize=(10, 6))\n",
    "sns.heatmap(correlation_matrix, annot=True, cmap='coolwarm', vmin=-1, vmax=1)\n",
    "plt.title('Correlation Matrix of ETFs')\n",
    "plt.show()"
   ]
  },
  {
   "cell_type": "markdown",
   "metadata": {},
   "source": [
    "Return Analysis"
   ]
  },
  {
   "cell_type": "markdown",
   "metadata": {},
   "source": [
    "\n",
    "Calculating and Analyzing Price Differences\n",
    "\n",
    "* The code calculates the price difference and percentage difference between the first and last closed prices for each ETF.\n",
    "* The percentage difference is calculated as `(last_closed_price - first_closed_price) / first_closed_price * 100`.\n",
    "* The ETF name and price difference are printed."
   ]
  },
  {
   "cell_type": "code",
   "execution_count": null,
   "metadata": {},
   "outputs": [],
   "source": [
    "#Calculating the difference between the first closed price, and the last\n",
    "for etf_name in etf['ETF_name'].unique():\n",
    "    etf_subset = etf[etf['ETF_name'] == etf_name]\n",
    "    \n",
    "    # Get the first and last closed prices\n",
    "    first_closed_price = etf_subset['Close'].iloc[0]\n",
    "    last_closed_price = etf_subset['Close'].iloc[-1]\n",
    "\n",
    "    # Calculate the difference\n",
    "    price_difference = last_closed_price - first_closed_price\n",
    "    percentage_difference = price_difference/first_closed_price*100\n",
    "    percentage_difference = percentage_difference.round(2)\n",
    "    \n",
    "    # Print the ETF name and the price difference\n",
    "    print(f'ETF: {etf_name}, Price Difference: {percentage_difference}%')\n",
    "   "
   ]
  },
  {
   "cell_type": "markdown",
   "metadata": {},
   "source": [
    "Calculating Returns\n",
    "\n",
    "* The code calculates daily returns for each ETF using the percentage change in the 'Close' prices.\n",
    "* Annualized volatility is calculated for each ETF using the standard deviation of daily returns multiplied by the square root of 252 (assuming 252 trading days in a year)."
   ]
  },
  {
   "cell_type": "code",
   "execution_count": null,
   "metadata": {},
   "outputs": [],
   "source": [
    "\n",
    "# Plot individual return analysis for each ETF\n",
    "for etf_name in etf['ETF_name'].unique():\n",
    "    etf_subset = etf[etf['ETF_name'] == etf_name].copy()\n",
    "    \n",
    "    # Calculate simple returns\n",
    "    etf_subset['simple_return'] = (etf_subset.loc[:,'Close'] -etf_subset.loc[:,'Open']) / etf_subset.loc[:,'Open']\n",
    "    \n",
    "    # Calculate logarithmic returns\n",
    "    etf_subset['log_return'] = np.log(etf_subset.loc[:,'Close'] / etf_subset.loc[:,'Open'])\n",
    "    \n",
    "    # Calculate cumulative returns\n",
    "    etf_subset['cumulative_return'] = (1 + etf_subset['simple_return']).cumprod()\n",
    "    \n",
    "    # Create subplots for each ETF's return analysis\n",
    "    fig, axes = plt.subplots(2, 1, figsize=(10, 8))\n",
    "    \n",
    "    # Plot simple returns\n",
    "    ax = etf_subset.plot(x='Date', y='simple_return',linewidth=1, ax=axes[0])\n",
    "    ax.set_xlabel('Date')\n",
    "    ax.set_ylabel('Simple Return')\n",
    "    ax.set_title(f'Simple Return Analysis for {etf_name}')\n",
    "    ax.legend().set_visible(False)\n",
    "    \n",
    "    # Plot cumulative returns\n",
    "    ax = etf_subset.plot(x='Date', y='cumulative_return',linewidth=1, ax=axes[1], color='orange')\n",
    "    ax.set_xlabel('Date')\n",
    "    ax.set_ylabel('Cumulative Return')\n",
    "    ax.set_title(f'Cumulative Return Analysis for {etf_name}')\n",
    "    ax.legend().set_visible(False)\n",
    "    \n",
    "    plt.tight_layout()\n",
    "    plt.show()"
   ]
  }
 ],
 "metadata": {
  "kernelspec": {
   "display_name": "Python 3",
   "language": "python",
   "name": "python3"
  },
  "language_info": {
   "codemirror_mode": {
    "name": "ipython",
    "version": 3
   },
   "file_extension": ".py",
   "mimetype": "text/x-python",
   "name": "python",
   "nbconvert_exporter": "python",
   "pygments_lexer": "ipython3",
   "version": "3.11.4"
  },
  "orig_nbformat": 4
 },
 "nbformat": 4,
 "nbformat_minor": 2
}
