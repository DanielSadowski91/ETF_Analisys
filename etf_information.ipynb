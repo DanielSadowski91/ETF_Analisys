{
 "cells": [
  {
   "cell_type": "markdown",
   "metadata": {},
   "source": [
    "ETF Information"
   ]
  },
  {
   "cell_type": "code",
   "execution_count": 46,
   "metadata": {},
   "outputs": [
    {
     "name": "stdout",
     "output_type": "stream",
     "text": [
      "Index(['Date', 'Open', 'High', 'Low', 'Close', 'Volume', 'Dividends',\n",
      "       'Stock Splits', 'ETF_name'],\n",
      "      dtype='object')\n"
     ]
    }
   ],
   "source": [
    "import pandas as pd\n",
    "from pathlib import Path\n",
    "import numpy as np\n",
    "\n",
    "\n",
    "#importing matplotlib setting style for plotting later\n",
    "import matplotlib.pyplot as plt\n",
    "%matplotlib inline\n",
    "%config InlineBackend.figure_format = 'svg' \n",
    "plt.style.use('fivethirtyeight')\n",
    "\n",
    "# Reading datasets\n",
    "database_path= r'database'\n",
    "# Get the files from the path\n",
    "files = Path(database_path).glob('*.csv')\n",
    "#Add new column with file name\n",
    "dfs = list()\n",
    "for f in files:\n",
    "    data = pd.read_csv(f)\n",
    "    data['ETF_name'] = f.stem\n",
    "    dfs.append(data)\n",
    "    \n",
    "etf = pd.concat(dfs, ignore_index=True)\n",
    "\n",
    "\n",
    "#Selecting and printing columns\n",
    "print(etf.columns)"
   ]
  },
  {
   "cell_type": "markdown",
   "metadata": {},
   "source": [
    "Presenting unique ETF"
   ]
  },
  {
   "cell_type": "code",
   "execution_count": 47,
   "metadata": {},
   "outputs": [
    {
     "name": "stdout",
     "output_type": "stream",
     "text": [
      "['ARKF' 'BITQ' 'BLOK' 'EMFQ' 'FINX' 'FNTC' 'IPAY' 'IYG' 'KOIN' 'TPAY']\n",
      "                        Date       Open       High        Low      Close  \\\n",
      "0  2019-02-04 00:00:00-05:00  19.837522  20.073683  19.834570  20.073683   \n",
      "1  2019-02-05 00:00:00-05:00  20.152404  20.280325  20.103204  20.204557   \n",
      "2  2019-02-06 00:00:00-05:00  20.191766  20.205542  19.985124  20.142565   \n",
      "3  2019-02-07 00:00:00-05:00  19.965444  19.994963  19.680082  19.847363   \n",
      "4  2019-02-08 00:00:00-05:00  19.680081  19.886721  19.630882  19.867043   \n",
      "\n",
      "   Volume  Dividends  Stock Splits ETF_name  \n",
      "0   47200        0.0             0     ARKF  \n",
      "1  110700        0.0             0     ARKF  \n",
      "2   45300        0.0             0     ARKF  \n",
      "3   58200        0.0             0     ARKF  \n",
      "4   18900        0.0             0     ARKF  \n"
     ]
    }
   ],
   "source": [
    "#Selecting unique ETF and setting the index\n",
    "unique_etf = etf['ETF_name'].unique()\n",
    "print(unique_etf)\n",
    "print(etf.head())\n"
   ]
  },
  {
   "cell_type": "code",
   "execution_count": 50,
   "metadata": {},
   "outputs": [
    {
     "ename": "KeyError",
     "evalue": "\"None of ['ETF_name'] are in the columns\"",
     "output_type": "error",
     "traceback": [
      "\u001b[1;31m---------------------------------------------------------------------------\u001b[0m",
      "\u001b[1;31mKeyError\u001b[0m                                  Traceback (most recent call last)",
      "Cell \u001b[1;32mIn[50], line 3\u001b[0m\n\u001b[0;32m      1\u001b[0m \u001b[39m# plot\u001b[39;00m\n\u001b[0;32m      2\u001b[0m COLORS \u001b[39m=\u001b[39m (\u001b[39m'\u001b[39m\u001b[39morange\u001b[39m\u001b[39m'\u001b[39m,\u001b[39m'\u001b[39m\u001b[39mgreen\u001b[39m\u001b[39m'\u001b[39m, \u001b[39m'\u001b[39m\u001b[39mblue\u001b[39m\u001b[39m'\u001b[39m, \u001b[39m'\u001b[39m\u001b[39mred\u001b[39m\u001b[39m'\u001b[39m, \u001b[39m'\u001b[39m\u001b[39myellow\u001b[39m\u001b[39m'\u001b[39m, \u001b[39m'\u001b[39m\u001b[39mbrown\u001b[39m\u001b[39m'\u001b[39m, \u001b[39m'\u001b[39m\u001b[39mdarkgreen\u001b[39m\u001b[39m'\u001b[39m, \u001b[39m'\u001b[39m\u001b[39mdarkblue\u001b[39m\u001b[39m'\u001b[39m)\n\u001b[1;32m----> 3\u001b[0m etf \u001b[39m=\u001b[39m etf\u001b[39m.\u001b[39;49mset_index(\u001b[39m'\u001b[39;49m\u001b[39mETF_name\u001b[39;49m\u001b[39m'\u001b[39;49m)\n\u001b[0;32m      4\u001b[0m Volume_sum \u001b[39m=\u001b[39m etf[\u001b[39m\"\u001b[39m\u001b[39mVolume\u001b[39m\u001b[39m\"\u001b[39m]\u001b[39m.\u001b[39msum()\n\u001b[0;32m      5\u001b[0m ax \u001b[39m=\u001b[39m etf\u001b[39m.\u001b[39mplot\u001b[39m.\u001b[39mbar(y\u001b[39m=\u001b[39mVolume_sum, color\u001b[39m=\u001b[39mCOLORS, legend\u001b[39m=\u001b[39m\u001b[39mFalse\u001b[39;00m, grid\u001b[39m=\u001b[39m\u001b[39mTrue\u001b[39;00m)\n",
      "File \u001b[1;32mc:\\Users\\dsado\\AppData\\Local\\Programs\\Python\\Python311\\Lib\\site-packages\\pandas\\core\\frame.py:5859\u001b[0m, in \u001b[0;36mDataFrame.set_index\u001b[1;34m(self, keys, drop, append, inplace, verify_integrity)\u001b[0m\n\u001b[0;32m   5856\u001b[0m                 missing\u001b[39m.\u001b[39mappend(col)\n\u001b[0;32m   5858\u001b[0m \u001b[39mif\u001b[39;00m missing:\n\u001b[1;32m-> 5859\u001b[0m     \u001b[39mraise\u001b[39;00m \u001b[39mKeyError\u001b[39;00m(\u001b[39mf\u001b[39m\u001b[39m\"\u001b[39m\u001b[39mNone of \u001b[39m\u001b[39m{\u001b[39;00mmissing\u001b[39m}\u001b[39;00m\u001b[39m are in the columns\u001b[39m\u001b[39m\"\u001b[39m)\n\u001b[0;32m   5861\u001b[0m \u001b[39mif\u001b[39;00m inplace:\n\u001b[0;32m   5862\u001b[0m     frame \u001b[39m=\u001b[39m \u001b[39mself\u001b[39m\n",
      "\u001b[1;31mKeyError\u001b[0m: \"None of ['ETF_name'] are in the columns\""
     ]
    }
   ],
   "source": [
    "# plot\n",
    "COLORS = ('orange','green', 'blue', 'red', 'yellow', 'brown', 'darkgreen', 'darkblue')\n",
    "etf_2 = etf.set_index('ETF_name')\n",
    "Volume_sum = etf[\"Volume\"].sum()\n",
    "ax = etf_2.plot.bar(y=Volume_sum, color=COLORS, legend=False, grid=True)\n",
    "ax.set_ylabel('Total Volume')\n",
    "ax.set_title('ETF Volume by ETF Name')\n",
    "plt.xticks(rotation=45)\n",
    "plt.show()\n"
   ]
  },
  {
   "cell_type": "markdown",
   "metadata": {},
   "source": []
  }
 ],
 "metadata": {
  "kernelspec": {
   "display_name": "Python 3",
   "language": "python",
   "name": "python3"
  },
  "language_info": {
   "codemirror_mode": {
    "name": "ipython",
    "version": 3
   },
   "file_extension": ".py",
   "mimetype": "text/x-python",
   "name": "python",
   "nbconvert_exporter": "python",
   "pygments_lexer": "ipython3",
   "version": "3.11.4"
  },
  "orig_nbformat": 4
 },
 "nbformat": 4,
 "nbformat_minor": 2
}
